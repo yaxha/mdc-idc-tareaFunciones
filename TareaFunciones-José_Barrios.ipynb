{
 "cells": [
  {
   "cell_type": "markdown",
   "metadata": {},
   "source": [
    "# Funciones de Python\n",
    "**José Barrios - 20007192**\n",
    "\n",
    ">**Una función es una porción de código reutilizable que se encarga de hacer una tarea específica.**\n",
    "\n",
    "<img src=\"https://s3-us-west-2.amazonaws.com/devcodepro/media/tutorials/funciones-en-python-t1.jpg\">\n",
    "\n",
    "### Sintaxis\n",
    "Lo primero es determinar cómo se arma una función en Python. La sintxis de este es muy sencilla y el codigo que es parte de la función se encierra por tabulación o _identación_."
   ]
  },
  {
   "cell_type": "code",
   "execution_count": 1,
   "metadata": {},
   "outputs": [],
   "source": [
    "def miPrimerFuncion():\n",
    "    # Inicio de código miPrimerFunción\n",
    "    pass\n",
    "    # Fin de código miPrimerFunción"
   ]
  },
  {
   "cell_type": "markdown",
   "metadata": {},
   "source": [
    "Se observa que se inicia utilizando la palabra reservada **def** seguida del nombre de la función y, en paréntesis, los parametros que recibirá. En este ejemplo, se utiliza la palabra **pass** para indicar que no haga nada la función y que el interprete no la marque como error. \n",
    "\n",
    "Ahora, demosle una funcionalidad básica a nuestra primera función"
   ]
  },
  {
   "cell_type": "code",
   "execution_count": 4,
   "metadata": {},
   "outputs": [],
   "source": [
    "def miPrimerFuncion():\n",
    "    print(\"Esta es mi primer función!\")"
   ]
  },
  {
   "cell_type": "markdown",
   "metadata": {},
   "source": [
    "Para utilizar la función solamente escribimos su nombre y le damos los parámetros que necesite (ninguno por el momento):"
   ]
  },
  {
   "cell_type": "code",
   "execution_count": 5,
   "metadata": {},
   "outputs": [
    {
     "name": "stdout",
     "output_type": "stream",
     "text": [
      "Esta es mi primer función!\n"
     ]
    }
   ],
   "source": [
    "miPrimerFuncion()"
   ]
  },
  {
   "cell_type": "markdown",
   "metadata": {},
   "source": [
    "### Parámetros\n",
    "Python permite recibir parámetros para modificar el resultado final de la función. Para definir los parámetros, se crea un listado de nombres de parámetros separados por coma."
   ]
  },
  {
   "cell_type": "code",
   "execution_count": 6,
   "metadata": {},
   "outputs": [
    {
     "name": "stdout",
     "output_type": "stream",
     "text": [
      "17\n"
     ]
    }
   ],
   "source": [
    "def suma(A, B, C):\n",
    "    print(A + B + C)\n",
    "    \n",
    "suma(2, 5, 10)"
   ]
  },
  {
   "cell_type": "markdown",
   "metadata": {},
   "source": [
    "Al utilizar la función suma, se le está diciendo al interprete que el número en la primera posición (2) se lo asigne a A, el segundo (5) a B y el tercero (10) a C. Es decir, en este caso, Python asume que estamos enviando los parámetros en el orden en el que están definidos en la función.\n",
    "\n",
    "Hay una forma de mandar a llamar una función nombrando los parámetros:"
   ]
  },
  {
   "cell_type": "code",
   "execution_count": 7,
   "metadata": {},
   "outputs": [
    {
     "name": "stdout",
     "output_type": "stream",
     "text": [
      "17\n"
     ]
    }
   ],
   "source": [
    "suma(C=10, A=2, B=5)"
   ]
  },
  {
   "cell_type": "markdown",
   "metadata": {},
   "source": [
    "La forma de utilizar la función nombrando los parámetros, permite que no nos importe el orden en el que fueron definidos.\n",
    "\n",
    "### Retorno de varios valores\n",
    "Una limitante de varios lenguajes es que las funciones únicamente pueden retornar un valor u objeto, Python permite devolver varios valores en una sola función, simplemente separando sus retornos con coma."
   ]
  },
  {
   "cell_type": "code",
   "execution_count": 8,
   "metadata": {},
   "outputs": [
    {
     "name": "stdout",
     "output_type": "stream",
     "text": [
      "(6, 2, 8, 2.0)\n"
     ]
    }
   ],
   "source": [
    "def operaciones(A, B):\n",
    "    return A+B, A-B, A*B, A/B\n",
    "\n",
    "print(operaciones(4, 2))"
   ]
  },
  {
   "cell_type": "markdown",
   "metadata": {},
   "source": [
    "Hacer ese tipo de returns, provoca que el inteprete devuelva una tupla de resultados, pero podemos tomar individualmente esos resultados y hacer lo que necesitemos con ellos."
   ]
  },
  {
   "cell_type": "code",
   "execution_count": 9,
   "metadata": {},
   "outputs": [
    {
     "name": "stdout",
     "output_type": "stream",
     "text": [
      "6\n",
      "2\n",
      "8\n",
      "2.0\n"
     ]
    }
   ],
   "source": [
    "rSuma, rResta, rMult, rDiv = operaciones(4, 2)\n",
    "\n",
    "print(rSuma)\n",
    "print(rResta)\n",
    "print(rMult)\n",
    "print(rDiv)"
   ]
  },
  {
   "cell_type": "markdown",
   "metadata": {},
   "source": [
    "### Funciones como parámetros\n",
    "Python permite utilizar funciones como parámetros de otras funciones. \n",
    "\n",
    "En el siguiente ejemplo _*args_ simboliza que ahí habrá un listado con uno o más elementos."
   ]
  },
  {
   "cell_type": "code",
   "execution_count": 11,
   "metadata": {},
   "outputs": [],
   "source": [
    "def cuadrado(x):\n",
    "    return x ** 2\n",
    "\n",
    "def raizCuadrada(x):\n",
    "    return x ** 0.5\n",
    "\n",
    "def operar(func, *args):\n",
    "    for n in args:\n",
    "        print(func(n))"
   ]
  },
  {
   "cell_type": "code",
   "execution_count": 12,
   "metadata": {},
   "outputs": [
    {
     "name": "stdout",
     "output_type": "stream",
     "text": [
      "4\n",
      "9\n",
      "25\n"
     ]
    }
   ],
   "source": [
    "operar(cuadrado, 2, 3, 5)"
   ]
  },
  {
   "cell_type": "code",
   "execution_count": 13,
   "metadata": {},
   "outputs": [
    {
     "name": "stdout",
     "output_type": "stream",
     "text": [
      "3.0\n",
      "5.0\n",
      "8.0\n",
      "7.0\n"
     ]
    }
   ],
   "source": [
    "operar(raizCuadrada, 9, 25, 64, 49)"
   ]
  },
  {
   "cell_type": "markdown",
   "metadata": {},
   "source": [
    "### Funciones lambda\n",
    "Funciones que no tienen una definición _formal_ ya que carecen de la sintaxis que previamente se habló (con la palabra def). Pero sí permiten simplificar la cantidad de lineas. \n",
    "\n",
    "Por ejemplo, tenemos la función de elevar al cuadrado:"
   ]
  },
  {
   "cell_type": "code",
   "execution_count": null,
   "metadata": {},
   "outputs": [],
   "source": [
    "def cuadrado(x):\n",
    "    return x ** 2"
   ]
  },
  {
   "cell_type": "markdown",
   "metadata": {},
   "source": [
    "Esta se puede simplicicar aun más con la sintaxis lambda:"
   ]
  },
  {
   "cell_type": "code",
   "execution_count": 14,
   "metadata": {},
   "outputs": [],
   "source": [
    "cuadradoLambda = lambda x: x**2"
   ]
  },
  {
   "cell_type": "markdown",
   "metadata": {},
   "source": [
    "El resultado debe ser el mismo, aunque la sintaxis de definición sea distinta."
   ]
  },
  {
   "cell_type": "code",
   "execution_count": 15,
   "metadata": {},
   "outputs": [
    {
     "name": "stdout",
     "output_type": "stream",
     "text": [
      "9\n",
      "9\n"
     ]
    }
   ],
   "source": [
    "print(cuadrado(3))\n",
    "print(cuadradoLambda(3))"
   ]
  },
  {
   "cell_type": "markdown",
   "metadata": {},
   "source": [
    "Último ejemplo con la suma:"
   ]
  },
  {
   "cell_type": "code",
   "execution_count": 17,
   "metadata": {},
   "outputs": [
    {
     "name": "stdout",
     "output_type": "stream",
     "text": [
      "7\n"
     ]
    }
   ],
   "source": [
    "suma = lambda x,y: x+y\n",
    "\n",
    "print(suma(3, 4))"
   ]
  }
 ],
 "metadata": {
  "kernelspec": {
   "display_name": "Python 3",
   "language": "python",
   "name": "python3"
  },
  "language_info": {
   "codemirror_mode": {
    "name": "ipython",
    "version": 3
   },
   "file_extension": ".py",
   "mimetype": "text/x-python",
   "name": "python",
   "nbconvert_exporter": "python",
   "pygments_lexer": "ipython3",
   "version": "3.7.6"
  }
 },
 "nbformat": 4,
 "nbformat_minor": 4
}
